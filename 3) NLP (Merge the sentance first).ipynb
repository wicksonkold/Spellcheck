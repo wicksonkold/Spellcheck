{
 "cells": [
  {
   "cell_type": "markdown",
   "id": "8e15810e",
   "metadata": {},
   "source": [
    "#pip install textblob\n",
    "#pip install autocorrect\n",
    "#pip install docx\n",
    "#pip install spacy\n",
    "pip install spacytextblob\n",
    "#pip install contextualSpellCheck\n",
    "#python -m spacy download en_core_web_sm\n",
    "#python -m spacy download zh_core_web_sm\n",
    "#python -m textblob.download_corpora\n",
    "#https://spacy.io/usage/models"
   ]
  },
  {
   "cell_type": "code",
   "execution_count": 15,
   "id": "9f2d17b3",
   "metadata": {},
   "outputs": [],
   "source": [
    "import docx\n",
    "import contextualSpellCheck\n",
    "import spacy\n",
    "from docx import Document\n"
   ]
  },
  {
   "cell_type": "code",
   "execution_count": 18,
   "id": "e7436787",
   "metadata": {},
   "outputs": [],
   "source": [
    "nlp = spacy.load(\"en_core_web_trf\")"
   ]
  },
  {
   "cell_type": "code",
   "execution_count": 19,
   "id": "0d6091e8",
   "metadata": {},
   "outputs": [
    {
     "data": {
      "text/plain": [
       "['transformer', 'tagger', 'parser', 'attribute_ruler', 'lemmatizer', 'ner']"
      ]
     },
     "execution_count": 19,
     "metadata": {},
     "output_type": "execute_result"
    }
   ],
   "source": [
    "nlp.pipe_names"
   ]
  },
  {
   "cell_type": "code",
   "execution_count": 20,
   "id": "8a5d3add",
   "metadata": {},
   "outputs": [
    {
     "data": {
      "application/vnd.jupyter.widget-view+json": {
       "model_id": "aa261e50e3b7492d96df6fc6e6dace5b",
       "version_major": 2,
       "version_minor": 0
      },
      "text/plain": [
       "Downloading tokenizer_config.json:   0%|          | 0.00/29.0 [00:00<?, ?B/s]"
      ]
     },
     "metadata": {},
     "output_type": "display_data"
    },
    {
     "data": {
      "application/vnd.jupyter.widget-view+json": {
       "model_id": "335f775c87b841c7bfff2f2e5bfa3efc",
       "version_major": 2,
       "version_minor": 0
      },
      "text/plain": [
       "Downloading config.json:   0%|          | 0.00/570 [00:00<?, ?B/s]"
      ]
     },
     "metadata": {},
     "output_type": "display_data"
    },
    {
     "data": {
      "application/vnd.jupyter.widget-view+json": {
       "model_id": "292e9ba5a2c9478ab1d77bcfcbec99fe",
       "version_major": 2,
       "version_minor": 0
      },
      "text/plain": [
       "Downloading vocab.txt:   0%|          | 0.00/208k [00:00<?, ?B/s]"
      ]
     },
     "metadata": {},
     "output_type": "display_data"
    },
    {
     "data": {
      "application/vnd.jupyter.widget-view+json": {
       "model_id": "dfcb7a604d8b484fa38293cb08e62842",
       "version_major": 2,
       "version_minor": 0
      },
      "text/plain": [
       "Downloading tokenizer.json:   0%|          | 0.00/426k [00:00<?, ?B/s]"
      ]
     },
     "metadata": {},
     "output_type": "display_data"
    },
    {
     "data": {
      "application/vnd.jupyter.widget-view+json": {
       "model_id": "684f1d91857149f3831013a0504ccad6",
       "version_major": 2,
       "version_minor": 0
      },
      "text/plain": [
       "Downloading pytorch_model.bin:   0%|          | 0.00/416M [00:00<?, ?B/s]"
      ]
     },
     "metadata": {},
     "output_type": "display_data"
    },
    {
     "data": {
      "text/plain": [
       "<contextualSpellCheck.contextualSpellCheck.ContextualSpellCheck at 0x1c48d049f10>"
      ]
     },
     "execution_count": 20,
     "metadata": {},
     "output_type": "execute_result"
    }
   ],
   "source": [
    "nlp.add_pipe(\"contextual spellchecker\")"
   ]
  },
  {
   "cell_type": "code",
   "execution_count": 21,
   "id": "78aac805",
   "metadata": {},
   "outputs": [
    {
     "data": {
      "text/plain": [
       "['transformer',\n",
       " 'tagger',\n",
       " 'parser',\n",
       " 'attribute_ruler',\n",
       " 'lemmatizer',\n",
       " 'ner',\n",
       " 'contextual spellchecker']"
      ]
     },
     "execution_count": 21,
     "metadata": {},
     "output_type": "execute_result"
    }
   ],
   "source": [
    "nlp.pipe_names"
   ]
  },
  {
   "cell_type": "code",
   "execution_count": 63,
   "id": "f2d21cbf",
   "metadata": {},
   "outputs": [
    {
     "name": "stdout",
     "output_type": "stream",
     "text": [
      "17\n",
      "21\n",
      "27\n",
      "35\n",
      "44\n",
      "57\n",
      "61\n",
      "72\n",
      "78\n",
      "87\n",
      "92\n",
      "112\n",
      "115\n",
      "119\n",
      "127\n",
      "139\n",
      "160\n",
      "171\n",
      "179\n",
      "183\n",
      "188\n",
      "199\n",
      "202\n",
      "215\n",
      "221\n",
      "227\n",
      "235\n"
     ]
    }
   ],
   "source": [
    "#Source doc\n",
    "doc_name = 'GLI_19890303_A(elDoc)'\n",
    "doc = docx.Document(doc_name + '.docx')\n",
    "final_temp_list = []\n",
    "temp_ps = ''\n",
    "\n",
    "#create new document\n",
    "newdoc = docx.Document()\n",
    "\n",
    "#loop the doc and find the paragraphs then split them into word by word\n",
    "for i in range(len(doc.paragraphs)):\n",
    "    temp_p = doc.paragraphs[i].text\n",
    "    temp_ps = temp_ps + \" \" + temp_p\n",
    "    #Merge the splited text into sentence, run the nlp() when detected the last str is . ? or .\n",
    "    if temp_ps[-1] == '.' or temp_ps[-1] == '?' or temp_ps[-1] == '。':\n",
    "        print(i)\n",
    "        sens = nlp(temp_ps)\n",
    "        check = sens._.outcome_spellCheck\n",
    "        if check != '':\n",
    "            final_temp_list.append(check)\n",
    "        else:\n",
    "            final_temp_list.append(temp_ps)\n",
    "            \n",
    "        temp_ps = ''\n",
    "    if i == len(doc.paragraphs)-1 and temp_ps != '':\n",
    "        sens = nlp(temp_ps)\n",
    "        check = sens._.outcome_spellCheck\n",
    "        if check != '':\n",
    "            final_temp_list.append(check)\n",
    "        else:\n",
    "            final_temp_list.append(temp_ps)\n",
    "        \n",
    "\n"
   ]
  },
  {
   "cell_type": "code",
   "execution_count": 64,
   "id": "1d572fc8-969e-43e5-9ee1-209a3b98f9e5",
   "metadata": {},
   "outputs": [
    {
     "name": "stdout",
     "output_type": "stream",
     "text": [
      " ONE OF BANKING 2% S 2 \\84 (2 ) ) ) ) ) ) ) ) Our ).: 1/[UNK] 3 March 1989 The Chief Executive All Authorised Institutions Dear Sir/Mr, Prevention of criminal use of the banking system for the purpose of money transfers I have a copy of a guide setting out certain principles to be followed by authorised institutions in order to minimize the risk of their becoming involved in money transfers. This title is issued under section 7(3) of the Banking Ordinance 1986, having regard to the Commissioner's responsibilities in section 7(2)(c) & (d) of the Ordinance, which are to promote sound business practices in the banking industry.  Background Banks and other financial institutions may be used only as instruments for the transfer or deposit of funds derived from criminal activity.  Criminals and their associates use the financial system to make payments and to transfer funds from one account to another; to hide the source and beneficial ownership of money; and to provide storage for bank-notes, gold, etc., through safe-deposit facilities, These activities are commonly referred to as money-makers.  Public confidence in banks, and hence their stability, can be threatened by adverse publicity as a result of alleged association by banks with criminals. In addition, banks may lay themselves open to direct losses from fraud, either through assistance in screening their customers or where the integrity of their own officers has been compromised through association with criminals.  9/F, Central Post Offices, 66 Street, Central, Hong Kong. No. 5-8672671 x 64282 - - Mat. 5-8690462. se 和 The issue of how to prevent criminals and the Proceeds of crime through the financial system has attracted increasing attention from legislative authorities, law enforcement agencies and bankries in a number of countries.  the Recently the national banking sector authorities represented on the Basle Committee on Banking Reaulations and Supervisory Practices* have issued a statement designed to ensure ethical standards of professional conduct among banks and other financial institutions. The statement encourages banks' management to put in place effective procedures to ensure that all persons conducting business with their institutions are properly identified; that transactions that don't appear legitimate are regulated; and that co-operation, where the law permits, with law enforcement authorities is achieved.  Banks in the countries represented on the Cormittee are being urged to follow the principles in the statement; and the Committee has sought support for it from other parties. auvthorities.  Bong Kong, as a major international financial centre, without exchange controls, and occupying a strategic position in South East Asia is particularly susceptible to being used by criminals to make money. It is therefore proposed that the lead set by the BRIS Committee be followed here in order to draw attention to the need for institutions to have appropriate defences against becoming increasingly involved in money lending. The work of the attached article is modelled closely therefore on the statement of the Basle Committee.  * The Committee comprises representatives of the central banks and regulatory authorities of the Group of Ten countries (Belagium, Canada, France, Cermany, Italy, Japan, Netherlands, Sweden, Switzerland, United Kinadcm, United States) and Luxembourg.  —~— ~ —, —— — ——————————————— \" I consider effective procedures to implement the scheme to be part of the internal controls which all currently managed authorised institutions should have in place, and as such we will have regard to their existence, content, and effectiveness when conducting our supervision.  The Hong Kona Association of Banks, the Hona Kong Deposit-taking Companies Association, the Ranking Advisory Committee, and the Deposit-takina Companies 2dvisory Committee have been consulted and fully support the plan.  - Trafficking Report You will be aware of the recently published law concerned with drug trafficking, which will, intern, require banks and deposit-taking companies to report suspicious transactions to the authorities. The associations of banks and deposit-~takina companies have devised model codes designed to assist their members develop procedures to facilitate compliance with the Bill's provisions. This describes the type of internal arrangements defined by the new Banking Ordinance Act. - Yoursly, A W Nicolle Commissioner of Ranking c.c. Local Representative Offices. 一 - 一 - BANKING ORDINANCE (Chapter 155) Prevention of criminal use of the banking system.  for the purposes of money-banking A licence issued by the Commissioner of Banking under section 7(3).  I. Purpose. Banks and other financial institutions may potentially be used as premises for the transfer or deposit of money derived from criminal activity.  The intention behind such transactions is often to hide the beneficial ownership of funds, The use of the financial system in this way is of direct concern to police and other law enforcement agencies; it is also a matter of concern to the Commissioner of Banking and the management of authorised institutions, since public confidence in banks may be compromised through their association with criminals.  This article is intended to outline some basic policies and procedures that management of authorised institutions should ensure are in place within their institutions with a view to assisting in the suppression of money-lending through the banking system, national and international. The plan thus sets out to reinforce existing best practices among authorised institutions and, specifically, to encourage resistance against criminal use of the payments system, implementation by authorised institutions of effective payment measures, and co-operation with law enforcement agencies.  Part II. Customer identification With a view to ensuring that the financial system is not used as a channel for criminal funds, authorised institutions should make reasonable efforts to determine the true identity of all customers requesting the institution s services Particular care should be taken to identify the ownership of all accounts and those using safe-custody facilities All authorised institutions should institute effective procedures for obtaining identification from new customers. It should be an explicit policy that significant business transactions will not be conducted with customers who fail to provide evidence of their identity []. p w— - --g [本 - p— T - et p. B - race p w. Compliance with laws Management of authorised institutions should ensure that business is conducted in conform with high ethical standards and that laws and regulations pertaining to financial transactions are agreed to.  As regards transactions executed on behalf of customers, it is accepted that institutions may have no means of knowing whether the transaction stems from or forms part of their activity. Similarly, in an international context it may be difficult to ensure that cross-border transactions on behalf of customers are in compliance with the regulations of another country. Nevertheless, institutions should not set out to offer services or provide active assistance in transactions which they have good reason to do e are associated with money-lending activities.  II. Co-operation with law enforcement authorities Authorised institutions should co~operate fully with law enforcement authorities to the extent permitted by certain obligations relating to customer confidentiality. Care should be taken to avoid providing support or assistance to customers seeking to benefit law enforcement agencies through the provision of altered, incomplete or misleading information.  Where institutions become aware of facts which lead to the reasonable assumption that money held on deposit derives from criminal activity or that transactions entered into are themselves criminal in purpose.  appropriate measures, consistent with the law and having regard to the financial obligations of the institution concerned, should be taken, for example, to deny assistance, alter relations with the customer and close or freeze accounts.  v According to the guidelines All authorised institutions should formally adopt policies consistent with the principles set out in this guidance and should ensure that all members of their staff concerned, wherever located, are informed of the institution's policy in this regard. Attention should be given to staff training in matters covered by the Gazette. To promote service to these principles, institutions should implement specific procedures for customer identification and for retaining internal records of transactions.  Arrangements for internal audit may need to be. extended in order to establish an effective means of testing for general compliance with the audit.  3 March 1989 Commissioner of Banking., PER't [UNK] :, ~ 一~一 [UNK]( [UNK]0)》 防止銀行殺統被非法用來使不正當獲得的金錯合法化 銀行監理專員根據第7% 條的規定而發出的指引 I 日, 銀行及其他人金融機構可能會在不知情之下, [UNK] 容放非法活動所得金鐵的媒介。這類交易背後的紅的, [UNK] 點款項受蕉權所有人的身份。利用人金融盂休作這種用途, [UNK] 他執法機構直接譯注的問題, 同時亦是銀行監理專員及認可機構管理 [UNK], 力為銀行如果與罪犯有交往, 人 心。  本指引上旨在概略地論明若干基本政策和程序, [UNK] 增誕應確保其機構切實執行, UBHELABRABETALKHEAEAR 使非法獲得的金鎂合法化( 大“ ). ), [UNK], 本 加強各認可指撞之間的現行優良價例, 特別是鼓吏認可機構提高警覺, 防範付款償統彼非法利用, 並富施有效的防自措施以又與執法機構,。  [UNK] 為確保金融人體殺不會被利用作為傳送非法款項的還告, 人 [UNK], 確定所有要求其提供服務的客戶的真正身份, 特別是護償辨別所有戶) 擁有人及使用保管設施“上士的身份。所有認 可機構雇制定有效的程序, 向新客戶取得身份證明, 明 規定不與未能提供身份證明的客戶進行巨領交易。  K B :A, 應確保他們按照高度的道德標準進行業 。, 並且依據有關財務交易的法規經營。至於代表客戶進行的交易, 有只方面有承認認可機構可能無法知王該項交易是否源於犯罪活動或謐 於犯罪活動的一部分。同檬, [UNK], 也可能難以確保代表客 [UNK], 是符合其他國家的規例。不過, [UNK] 分理由推測某些交易是與{洗錢」祖動有器, 使不臨向有說客戶提供 [UNK]。  [UNK], Raieatintnane : 2 -’ -, ~ ~L 0 WE ~ ~ < RLES- ; O T 小 F 8 - en.\n"
     ]
    }
   ],
   "source": [
    "ff = ' '.join(final_temp_list)\n",
    "print(ff)"
   ]
  },
  {
   "cell_type": "code",
   "execution_count": 65,
   "id": "c1065820",
   "metadata": {},
   "outputs": [],
   "source": [
    "#save new document\n",
    "newdoc.add_paragraph(final_temp_list)\n",
    "newdoc.save(doc_name+'_ED(NLP-concat).docx')\n"
   ]
  },
  {
   "cell_type": "code",
   "execution_count": null,
   "id": "c35a99e0-b1c2-47d4-91e8-555a836d0cba",
   "metadata": {},
   "outputs": [],
   "source": []
  }
 ],
 "metadata": {
  "kernelspec": {
   "display_name": "Python 3 (ipykernel)",
   "language": "python",
   "name": "python3"
  },
  "language_info": {
   "codemirror_mode": {
    "name": "ipython",
    "version": 3
   },
   "file_extension": ".py",
   "mimetype": "text/x-python",
   "name": "python",
   "nbconvert_exporter": "python",
   "pygments_lexer": "ipython3",
   "version": "3.9.12"
  }
 },
 "nbformat": 4,
 "nbformat_minor": 5
}
