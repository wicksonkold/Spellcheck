{
 "cells": [
  {
   "cell_type": "code",
   "execution_count": 13,
   "id": "1e04111d-c5a0-4d35-961e-9ddbeae26086",
   "metadata": {},
   "outputs": [
    {
     "name": "stdout",
     "output_type": "stream",
     "text": [
      "Text without punctuations:\n",
      " The Chirf Exective\n",
      "All Authorsed Institutions\n",
      "Dear SirMadam\n",
      "Prevention of crimimal use of the banking systemw\n",
      "for the purpose of money laundering\n",
      "I enclose a copy of a cguideline setting out\n",
      "certain principles to be foollowed by authorised\n",
      "instituions in order to mibnimize the risk of their\n",
      "\n",
      "\n",
      "Possible list of misspelled words in the original text:\n",
      " ['authorsed', 'systemw', 'instituions', 'chirf', 'mibnimize', 'sirmadam', 'cguideline', 'crimimal', 'exective', 'foollowed']\n"
     ]
    }
   ],
   "source": [
    "from textblob import TextBlob\n",
    "from spellchecker import SpellChecker\n",
    "import docx\n",
    "from docx import Document\n",
    "import re\n",
    "\n",
    "newdoc = docx.Document()\n",
    "#Source doc\n",
    "doc_name = 'test'\n",
    "#doc_name = 'GLI_19890303_A(elDoc)'\n",
    "doc = docx.Document(doc_name + '.docx')\n",
    "spell = SpellChecker(distance = 1)\n",
    "\n",
    "\n",
    "#print(\"Original Text:\\n\", str(filecontent))\n",
    "b = TextBlob(filecontent)\n",
    "print(\"Corrected text:\\n\", str(b.correct()))\n",
    "\n",
    "#remove all punctuations before finding possible misspelled words\n",
    "s = re.sub(r'[^\\w\\s]','',filecontent)\n",
    "print(\"Text without punctuations:\\n\",s)\n",
    "wordlist=s.split()\n",
    "spell = SpellChecker()\n",
    "\n",
    "# find those words that may be misspelled\n",
    "misspelled = list(spell.unknown(wordlist))\n",
    "print(\"Possible list of misspelled words in the original text:\\n\",misspelled)\n",
    "\n",
    "#textblob cannot correct all misspellings , some corrections might be meaningless, so its important to find all candidate words\n",
    "#for word in misspelled:\n",
    "    # Get the one `most likely` answer\n",
    "    print(\"Correct word:\",spell.correction(word))\n",
    "    # Get a list of `likely` options\n",
    "    print(\"Candidate words:\",spell.candidates(word))\n",
    "\n",
    "#finally overwrite the text file with the corrected text\n",
    "newdoc.add_paragraph(str(b.correct()))\n",
    "newdoc.save('testtt_ED.docx')\n"
   ]
  },
  {
   "cell_type": "code",
   "execution_count": 7,
   "id": "d7672529-9987-47ae-ab46-0db2be6204a3",
   "metadata": {},
   "outputs": [
    {
     "name": "stdout",
     "output_type": "stream",
     "text": [
      "['nmae']\n"
     ]
    }
   ],
   "source": [
    "print(misspelled)"
   ]
  }
 ],
 "metadata": {
  "kernelspec": {
   "display_name": "Python 3 (ipykernel)",
   "language": "python",
   "name": "python3"
  },
  "language_info": {
   "codemirror_mode": {
    "name": "ipython",
    "version": 3
   },
   "file_extension": ".py",
   "mimetype": "text/x-python",
   "name": "python",
   "nbconvert_exporter": "python",
   "pygments_lexer": "ipython3",
   "version": "3.9.12"
  }
 },
 "nbformat": 4,
 "nbformat_minor": 5
}
