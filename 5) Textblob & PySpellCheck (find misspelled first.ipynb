{
 "cells": [
  {
   "cell_type": "markdown",
   "id": "8e15810e",
   "metadata": {},
   "source": [
    "#pip install textblob\n",
    "#pip install autocorrect\n",
    "#pip install docx\n",
    "#pip install spacy\n",
    "pip install spacytextblob\n",
    "#pip install contextualSpellCheck\n",
    "#python -m spacy download en_core_web_sm\n",
    "#python -m spacy download zh_core_web_sm\n",
    "#python -m textblob.download_corpora\n",
    "#https://spacy.io/usage/models"
   ]
  },
  {
   "cell_type": "code",
   "execution_count": 1,
   "id": "9f2d17b3",
   "metadata": {},
   "outputs": [],
   "source": [
    "import docx\n",
    "from spellchecker import SpellChecker\n",
    "from docx import Document\n"
   ]
  },
  {
   "cell_type": "code",
   "execution_count": 2,
   "id": "6fc3d204",
   "metadata": {},
   "outputs": [],
   "source": [
    "def add_to_new_file(words):\n",
    "    newdoc.add_paragraph(words)"
   ]
  },
  {
   "cell_type": "code",
   "execution_count": 63,
   "id": "f2d21cbf",
   "metadata": {},
   "outputs": [],
   "source": [
    "#Source doc\n",
    "#doc_name = 'test'\n",
    "doc_name = 'GLI_19890303_A(elDoc)'\n",
    "doc = docx.Document(doc_name + '.docx')\n",
    "spell = SpellChecker()\n",
    "\n",
    "#create new document\n",
    "newdoc = docx.Document()\n",
    "\n",
    "\n",
    "temp_content = []\n",
    "temp_ps = []\n",
    "#loop the doc and find the paragraphs then split them into word by word\n",
    "for i in range(len(doc.paragraphs)):\n",
    "    temp_p = doc.paragraphs[i].text\n",
    "    temp_ps = temp_p.split()\n",
    "    temp_content = temp_content + temp_ps\n",
    "\n",
    "#check word by word with unknow\n",
    "#print(temp_content)\n",
    "misspelled = list(spell.unknown(temp_content))\n",
    "\n",
    "#loop the temp content and compare to misspelled list, if ture then replace with .correction()\n",
    "for i in range(len(temp_content)):\n",
    "    for j in range(len(misspelled)):\n",
    "        if temp_content[i] == None:\n",
    "            temp_content[i] = ' '\n",
    "            if temp_content[i].upper() == misspelled[j].upper():\n",
    "                temp_content[i] = spell.correction(misspelled[j])\n",
    "        else:\n",
    "            if temp_content[i].upper() == misspelled[j].upper():\n",
    "                temp_content[i] = spell.correction(misspelled[j])\n",
    "\n",
    "final_corrected_content = ' '.join(temp_content)"
   ]
  },
  {
   "cell_type": "code",
   "execution_count": 64,
   "id": "c1065820",
   "metadata": {},
   "outputs": [],
   "source": [
    "#save new document\n",
    "newdoc.add_paragraph(final_corrected_content)\n",
    "newdoc.save(doc_name+'_ED(T & PSC).docx')\n"
   ]
  },
  {
   "cell_type": "code",
   "execution_count": null,
   "id": "996d747c",
   "metadata": {},
   "outputs": [],
   "source": [
    "'''\n",
    "merge all word together\n",
    "split all\n",
    "loop once for checking the misspelling word\n",
    "\n",
    "\n",
    "'''"
   ]
  }
 ],
 "metadata": {
  "kernelspec": {
   "display_name": "Python 3 (ipykernel)",
   "language": "python",
   "name": "python3"
  },
  "language_info": {
   "codemirror_mode": {
    "name": "ipython",
    "version": 3
   },
   "file_extension": ".py",
   "mimetype": "text/x-python",
   "name": "python",
   "nbconvert_exporter": "python",
   "pygments_lexer": "ipython3",
   "version": "3.9.12"
  }
 },
 "nbformat": 4,
 "nbformat_minor": 5
}
