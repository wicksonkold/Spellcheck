{
 "cells": [
  {
   "cell_type": "markdown",
   "id": "8e15810e",
   "metadata": {},
   "source": [
    "pip install --upgrade paddlenlp\n",
    "pip install paddleocr --upgrade\n",
    "pip install paddlepaddle\n",
    "pip install pycorrector\n",
    "\n",
    "https://pypi.org/project/paddlenlp/\n",
    "https://github.com/shibing624/pycorrector/blob/master/examples/base_demo.py\n",
    "https://github.com/shibing624/pycorrector#install\n",
    "https://github.com/shibing624/pycorrector\n",
    "https://github.com/shibing624/pycorrector#install"
   ]
  },
  {
   "cell_type": "code",
   "execution_count": 6,
   "id": "9f2d17b3",
   "metadata": {},
   "outputs": [],
   "source": [
    "import docx\n",
    "from docx import Document\n",
    "from paddlenlp import Taskflow\n",
    "import pycorrector"
   ]
  },
  {
   "cell_type": "code",
   "execution_count": 7,
   "id": "f2d21cbf",
   "metadata": {},
   "outputs": [],
   "source": [
    "#Source doc\n",
    "doc_name = 'zhtest'\n",
    "doc = docx.Document(doc_name + '.docx')\n",
    "final_temp_list = []\n",
    "temp_ps = ''\n",
    "\n",
    "#create new document\n",
    "newdoc = docx.Document()\n"
   ]
  },
  {
   "cell_type": "code",
   "execution_count": 8,
   "id": "0ebe75de-007d-402b-b848-0b10abf1d1d8",
   "metadata": {},
   "outputs": [
    {
     "data": {
      "text/plain": [
       "'\\n#loop the doc and find the paragraphs then split them into word by word\\nfor i in range(len(doc.paragraphs)):\\n    temp_p = doc.paragraphs[i].text\\n    temp_ps = temp_ps + \" \" + temp_p\\n    if temp_ps[-1] == \\'.\\' or temp_ps[-1] == \\'?\\' or temp_ps[-1] == \\'。\\':\\n        print(i)\\n        sens = nlp(temp_ps)\\n        check = sens._.outcome_spellCheck\\n        if check != \\'\\':\\n            final_temp_list.append(check)\\n        else:\\n            final_temp_list.append(temp_ps)\\n            \\n        temp_ps = \\'\\'\\n    if i == len(doc.paragraphs)-1 and temp_ps != \\'\\':\\n        sens = nlp(temp_ps)\\n        check = sens._.outcome_spellCheck\\n        if check != \\'\\':\\n            final_temp_list.append(check)\\n        else:\\n            final_temp_list.append(temp_ps)\\n   '"
      ]
     },
     "execution_count": 8,
     "metadata": {},
     "output_type": "execute_result"
    }
   ],
   "source": [
    "'''\n",
    "#loop the doc and find the paragraphs then split them into word by word\n",
    "for i in range(len(doc.paragraphs)):\n",
    "    temp_p = doc.paragraphs[i].text\n",
    "    temp_ps = temp_ps + \" \" + temp_p\n",
    "    if temp_ps[-1] == '.' or temp_ps[-1] == '?' or temp_ps[-1] == '。':\n",
    "        print(i)\n",
    "        sens = nlp(temp_ps)\n",
    "        check = sens._.outcome_spellCheck\n",
    "        if check != '':\n",
    "            final_temp_list.append(check)\n",
    "        else:\n",
    "            final_temp_list.append(temp_ps)\n",
    "            \n",
    "        temp_ps = ''\n",
    "    if i == len(doc.paragraphs)-1 and temp_ps != '':\n",
    "        sens = nlp(temp_ps)\n",
    "        check = sens._.outcome_spellCheck\n",
    "        if check != '':\n",
    "            final_temp_list.append(check)\n",
    "        else:\n",
    "            final_temp_list.append(temp_ps)\n",
    "   '''     \n",
    "\n"
   ]
  },
  {
   "cell_type": "code",
   "execution_count": null,
   "id": "00f35c39-b76f-427f-a351-942cca347445",
   "metadata": {},
   "outputs": [],
   "source": []
  },
  {
   "cell_type": "code",
   "execution_count": 10,
   "id": "1d572fc8-969e-43e5-9ee1-209a3b98f9e5",
   "metadata": {},
   "outputs": [
    {
     "name": "stdout",
     "output_type": "stream",
     "text": [
      "Downloading data from https://deepspeech.bj.bcebos.com/zh_lm/zh_giga.no_cna_cmn.prune01244.klm\n",
      "2953396224/2953395058 [==============================] - 1279s 0us/step\n"
     ]
    },
    {
     "name": "stderr",
     "output_type": "stream",
     "text": [
      "2022-10-19 11:51:30.753 | DEBUG    | pycorrector.detector:_initialize_detector:89 - Loaded language model: /Users/Admin/.pycorrector/datasets/zh_giga.no_cna_cmn.prune01244.klm\n"
     ]
    },
    {
     "name": "stdout",
     "output_type": "stream",
     "text": [
      "銀行業修例( 香港法例第155 章)》防止銀行殺統被非法用來使不正當獲得的金錯合法化銀行監理專員根據第7% 條的規定而發出的指引I 日 的銀行及其他人金融機構可能會在不知情之下, 被利用作為韓移或容放非法活動所得金鐵的媒介。這類交易背後的紅的, 時常是為了隱點款項受蕉權所有人的身份。利用人金融盂休作這種用途, 是警方及其他執法機構直接譯注的問題, 同時亦是銀行監理專員及認可機構管理REFELONME, 力為銀行如果與罪犯有交往, 會損害公眾人士對鋅行的信心。本指引上旨在概略地論明若干基本政策和程序, 認卅機構的答理增誕應確保其機構切實執行, UBHELABRABETALKHEAEAR使非法獲得的金鎂合法化( 亦稱“ 洗氏. 大此, 本指紀的目的, 是加強各認可指撞之間的現行優良價例, 特別是鼓吏認可機構提高警覺, 防範付款償統彼非法利用, 並富施有效的防自措施以又與執法機構合作。中客戶身份為確保金融人體殺不會被利用作為傳送非法款項的還告, 認可機構划作出合理的努力, 確定所有要求其提供服務的客戶的真正身份,特別是護償辨別所有戶) 擁有人及使用保管設施“上士的身份。所有認可機構雇制定有效的程序, 向新客戶取得身份證明, 並在改策上明確規定不與未能提供身份證明的客戶進行巨領交易。K B TEG認可機構的管理階族, 應確保他們按照高度的道德標準進行業密, 並且依據有關財務交易的法規經營。至於代表客戶進行的交易,有只方面有承認認可機構可能無法知王該項交易是否源於犯罪活動或謐於犯罪活動的一部分。同檬, 在國際交易中, 也可能難以確保代表客五進行的跨屆交易, 是符合其他國家的規例。不過, 認可機構若有衣分理由推測某些交易是與{洗錢」祖動有器, 使不臨向有說客戶提供服務或積極給予協助。 => 銀行業秀丽( 香港法例第155 章)》防止銀行殺統被非法用來使不正當獲得的钱錯合法化銀行監理專員根據第7% 條弟規定而發出的指引I 日 的銀行及其他人金融及狗可能會在不知情之下, 被利用作为韓抑或客房非法活動所得金鐵的媒介。這類交易背後的紅第, 時常是為了隱點款項受教權所有人的身份。利用人金融盂修凿這種用途, 是警方及其他執法機構直接译注的問題, 同時亦是銀行監理專員及認可機構管理REFELONME, 李為銀行如果與罪犯有瞭望, 會損害公众人士對新行的信心。本指引上旨在概略地論明若干基本政策和程序, 認卅機構的答理增誕應確保其機構切實執行, UBHELABRABETALKHEAEAR使非法获得的金鎂合法化( 亦稱“ 行事. 代比, 本职紀的目的, 是加強各認可治壮之間的現行優良價哩, 特別是鼓励認可機構提高警覺, 防範付款償統彼非法利用, 並富士有效的防资措施以又遇执法忌购合作。中客戶身份為確保金融人體殺不會被利用作为傳送非法款項的還浩, 认可吉勾划作出合理的努力, 确定所有要求其提供服务的客户的真正身份,特別是護償辨別所有戶) 擁有任即使用保管設施“上士的身份。所有認可機構雇制定有效的程序, 向新客戶取得身份證明, 並在改厕上明确規定不與未能提供身份證明的客戶進行距領交易。K B TEG認可機構的管理階旅, 應確保他們按照高度的道德標準進行業秘, 並且依據有關財務交易的法規經營。至於代表客户進行的交易,有制方面有承認認可機構可能無法制网該項交易是否源於犯罪活動伙謐於犯罪活動的一部分。同盟, 在國際交易中, 也可能難以確保代表可恶進行的跨接交易, 是符合其他國家的規例。不過, 認可機構若有衣分理由推測某些交易是與{洗錢」足動游枝, 使不吝向有說客戶提供服務或積極給予協助。 [('修例', '秀丽', 3, 5), ('金錯', '钱錯', 37, 39), ('條的', '條弟', 54, 56), ('機', '及', 77, 78), ('構', '狗', 78, 79), ('作為', '作为', 93, 95), ('韓移', '韓抑', 95, 97), ('容放', '客房', 98, 100), ('紅的', '紅第', 119, 121), ('受蕉權', '受教權', 132, 135), ('休作', '修凿', 148, 150), ('譯注', '译注', 168, 170), ('力為', '李為', 203, 205), ('交往', '瞭望', 213, 215), ('公眾', '公众', 220, 222), ('對鋅行', '對新行', 224, 227), ('獲', '获', 298, 299), ('洗氏', '行事', 312, 314), ('大此', '代比', 316, 318), ('指紀', '职紀', 321, 323), ('指撞', '治壮', 334, 336), ('價例', '價哩', 343, 345), ('鼓吏', '鼓励', 350, 352), ('並富施', '並富士', 375, 378), ('防自措', '防资措', 381, 384), ('與', '遇', 387, 388), ('執', '执', 388, 389), ('機', '忌', 390, 391), ('構', '购', 391, 392), ('作為', '作为', 413, 415), ('還告', '還浩', 422, 424), ('認', '认', 426, 427), ('機', '吉', 428, 429), ('構', '勾', 429, 430), ('確', '确', 440, 441), ('務', '务', 450, 451), ('戶', '户', 453, 454), ('人及', '任期', 474, 476), ('及使', '即使', 475, 477), ('改策', '改厕', 519, 521), ('確', '确', 523, 524), ('巨領', '距領', 541, 543), ('階族', '階旅', 560, 562), ('業密', '業秘', 580, 582), ('戶', '户', 605, 606), ('只方', '制方', 613, 615), ('知王', '制网', 627, 629), ('或謐', '伙謐', 641, 643), ('同檬', '同盟', 653, 655), ('客五', '可恶', 674, 676), ('跨屆', '跨接', 679, 681), ('祖動', '足動', 722, 724), ('有器', '游枝', 724, 726), ('使不臨', '使不吝', 728, 731)]\n"
     ]
    }
   ],
   "source": [
    "error_sentences = ['銀行業修例( 香港法例第155 章)》'\n",
    "'防止銀行殺統被非法用來使不正當獲得的金錯合法化'\n",
    "'銀行監理專員根據第7% 條的規定而發出的指引'\n",
    "'I 日 的'\n",
    "'銀行及其他人金融機構可能會在不知情之下, 被利用作為韓移或'\n",
    "'容放非法活動所得金鐵的媒介。這類交易背後的紅的, 時常是為了隱'\n",
    "'點款項受蕉權所有人的身份。利用人金融盂休作這種用途, 是警方及其'\n",
    "'他執法機構直接譯注的問題, 同時亦是銀行監理專員及認可機構管理'\n",
    "'REFELONME, 力為銀行如果與罪犯有交往, 會損害公眾人士對'\n",
    "'鋅行的信心。'\n",
    "'本指引上旨在概略地論明若干基本政策和程序, 認卅機構的答理'\n",
    "'增誕應確保其機構切實執行, UBHELABRABETALKHEAEAR'\n",
    "'使非法獲得的金鎂合法化( 亦稱“ 洗氏. 大此, 本指紀的目的, 是'\n",
    "'加強各認可指撞之間的現行優良價例, 特別是鼓吏認可機構提高警覺'\n",
    "', 防範付款償統彼非法利用, 並富施有效的防自措施以又與執法機構'\n",
    "'合作。'\n",
    "'中客戶身份'\n",
    "'為確保金融人體殺不會被利用作為傳送非法款項的還告, 認可機'\n",
    "'構划作出合理的努力, 確定所有要求其提供服務的客戶的真正身份,'\n",
    "'特別是護償辨別所有戶) 擁有人及使用保管設施“上士的身份。所有認'\n",
    "'可機構雇制定有效的程序, 向新客戶取得身份證明, 並在改策上明確'\n",
    "'規定不與未能提供身份證明的客戶進行巨領交易。'\n",
    "'K B TEG'\n",
    "'認可機構的管理階族, 應確保他們按照高度的道德標準進行業'\n",
    "'密, 並且依據有關財務交易的法規經營。至於代表客戶進行的交易,'\n",
    "'有只方面有承認認可機構可能無法知王該項交易是否源於犯罪活動或謐'\n",
    "'於犯罪活動的一部分。同檬, 在國際交易中, 也可能難以確保代表客'\n",
    "'五進行的跨屆交易, 是符合其他國家的規例。不過, 認可機構若有衣'\n",
    "'分理由推測某些交易是與{洗錢」祖動有器, 使不臨向有說客戶提供'\n",
    "'服務或積極給予協助。'\n",
    "\n",
    "\n",
    "    \n",
    "]\n",
    "for line in error_sentences:\n",
    "    correct_sent, err = pycorrector.correct(line)\n",
    "    print(\"{} => {} {}\".format(line, correct_sent, err))"
   ]
  },
  {
   "cell_type": "code",
   "execution_count": 11,
   "id": "7fa22ddc-f358-4647-b992-8357202dfd1b",
   "metadata": {},
   "outputs": [
    {
     "name": "stdout",
     "output_type": "stream",
     "text": [
      "銀行業秀丽( 香港法例第155 章)》防止銀行殺統被非法用來使不正當獲得的钱錯合法化銀行監理專員根據第7% 條弟規定而發出的指引I 日 的銀行及其他人金融及狗可能會在不知情之下, 被利用作为韓抑或客房非法活動所得金鐵的媒介。這類交易背後的紅第, 時常是為了隱點款項受教權所有人的身份。利用人金融盂修凿這種用途, 是警方及其他執法機構直接译注的問題, 同時亦是銀行監理專員及認可機構管理REFELONME, 李為銀行如果與罪犯有瞭望, 會損害公众人士對新行的信心。本指引上旨在概略地論明若干基本政策和程序, 認卅機構的答理增誕應確保其機構切實執行, UBHELABRABETALKHEAEAR使非法获得的金鎂合法化( 亦稱“ 行事. 代比, 本职紀的目的, 是加強各認可治壮之間的現行優良價哩, 特別是鼓励認可機構提高警覺, 防範付款償統彼非法利用, 並富士有效的防资措施以又遇执法忌购合作。中客戶身份為確保金融人體殺不會被利用作为傳送非法款項的還浩, 认可吉勾划作出合理的努力, 确定所有要求其提供服务的客户的真正身份,特別是護償辨別所有戶) 擁有任即使用保管設施“上士的身份。所有認可機構雇制定有效的程序, 向新客戶取得身份證明, 並在改厕上明确規定不與未能提供身份證明的客戶進行距領交易。K B TEG認可機構的管理階旅, 應確保他們按照高度的道德標準進行業秘, 並且依據有關財務交易的法規經營。至於代表客户進行的交易,有制方面有承認認可機構可能無法制网該項交易是否源於犯罪活動伙謐於犯罪活動的一部分。同盟, 在國際交易中, 也可能難以確保代表可恶進行的跨接交易, 是符合其他國家的規例。不過, 認可機構若有衣分理由推測某些交易是與{洗錢」足動游枝, 使不吝向有說客戶提供服務或積極給予協助。\n"
     ]
    }
   ],
   "source": [
    "print(correct_sent)"
   ]
  },
  {
   "cell_type": "code",
   "execution_count": 8,
   "id": "c1065820",
   "metadata": {},
   "outputs": [],
   "source": [
    "#save new document\n",
    "newdoc.add_paragraph(final_temp_list)\n",
    "newdoc.save(doc_name+'_ED(NLP-concat-ZH).docx')\n"
   ]
  },
  {
   "cell_type": "code",
   "execution_count": null,
   "id": "c35a99e0-b1c2-47d4-91e8-555a836d0cba",
   "metadata": {},
   "outputs": [],
   "source": []
  }
 ],
 "metadata": {
  "kernelspec": {
   "display_name": "Python 3 (ipykernel)",
   "language": "python",
   "name": "python3"
  },
  "language_info": {
   "codemirror_mode": {
    "name": "ipython",
    "version": 3
   },
   "file_extension": ".py",
   "mimetype": "text/x-python",
   "name": "python",
   "nbconvert_exporter": "python",
   "pygments_lexer": "ipython3",
   "version": "3.9.12"
  }
 },
 "nbformat": 4,
 "nbformat_minor": 5
}
