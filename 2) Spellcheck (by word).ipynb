{
 "cells": [
  {
   "cell_type": "markdown",
   "id": "8e15810e",
   "metadata": {},
   "source": [
    "#pip install textblob\n",
    "#pip install autocorrect\n",
    "#pip install docx\n",
    "#pip install spacy\n",
    "pip install spacytextblob\n",
    "#pip install contextualSpellCheck\n",
    "#python -m spacy download en_core_web_sm\n",
    "#python -m spacy download zh_core_web_sm\n",
    "#python -m textblob.download_corpora\n",
    "#https://spacy.io/usage/models"
   ]
  },
  {
   "cell_type": "code",
   "execution_count": 1,
   "id": "9f2d17b3",
   "metadata": {},
   "outputs": [],
   "source": [
    "import docx\n",
    "import re\n",
    "from spellchecker import SpellChecker\n",
    "#from textblob import Word\n",
    "#from textblob import TextBlob\n",
    "from docx import Document\n"
   ]
  },
  {
   "cell_type": "code",
   "execution_count": 2,
   "id": "6fc3d204",
   "metadata": {},
   "outputs": [],
   "source": [
    "def add_to_new_file(words):\n",
    "    newdoc.add_paragraph(words)"
   ]
  },
  {
   "cell_type": "code",
   "execution_count": 3,
   "id": "f2d21cbf",
   "metadata": {},
   "outputs": [],
   "source": [
    "#Source doc\n",
    "doc_name = 'GLI_19890303_A(elDoc)'\n",
    "doc = docx.Document(doc_name + '.docx')\n",
    "#Here distance can set to 1 or 2, 2 is deafult.\n",
    "spell = SpellChecker(distance = 1)\n",
    "\n",
    "#create new document\n",
    "newdoc = docx.Document()\n",
    "\n",
    "#loop the doc and find the paragraphs then split them into word by word\n",
    "for i in range(len(doc.paragraphs)):\n",
    "    temp_p = doc.paragraphs[i].text\n",
    "    temp_split = temp_p.split()\n",
    "    \n",
    "    #do spellcheck and append to a list\n",
    "    temp_list = []\n",
    "    for j in range(len(temp_split)):\n",
    "        sc = spell.correction(temp_split[j])\n",
    "        if sc == None:\n",
    "            sc = ' '\n",
    "        temp_list.append(spell.correction(sc))\n",
    "\n",
    "    add_to_new_file(' '.join(temp_list))\n",
    "\n",
    "        "
   ]
  },
  {
   "cell_type": "code",
   "execution_count": 4,
   "id": "c1065820",
   "metadata": {},
   "outputs": [],
   "source": [
    "#save new document\n",
    "newdoc.save(doc_name+'_ED(SpellCheck).docx')\n"
   ]
  },
  {
   "cell_type": "code",
   "execution_count": null,
   "id": "996d747c",
   "metadata": {},
   "outputs": [],
   "source": []
  }
 ],
 "metadata": {
  "kernelspec": {
   "display_name": "Python 3 (ipykernel)",
   "language": "python",
   "name": "python3"
  },
  "language_info": {
   "codemirror_mode": {
    "name": "ipython",
    "version": 3
   },
   "file_extension": ".py",
   "mimetype": "text/x-python",
   "name": "python",
   "nbconvert_exporter": "python",
   "pygments_lexer": "ipython3",
   "version": "3.9.12"
  }
 },
 "nbformat": 4,
 "nbformat_minor": 5
}
