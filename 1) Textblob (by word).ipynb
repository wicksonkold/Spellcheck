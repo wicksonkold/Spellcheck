{
 "cells": [
  {
   "cell_type": "markdown",
   "id": "8e15810e",
   "metadata": {},
   "source": [
    "pip install textblob\n",
    "pip install autocorrect\n",
    "pip install docx\n"
   ]
  },
  {
   "cell_type": "code",
   "execution_count": 1,
   "id": "9f2d17b3",
   "metadata": {},
   "outputs": [],
   "source": [
    "import docx\n",
    "import re\n",
    "from textblob import Word\n",
    "from textblob import TextBlob\n",
    "from docx import Document\n",
    "from docx.enum.text import WD_COLOR_INDEX"
   ]
  },
  {
   "cell_type": "code",
   "execution_count": 2,
   "id": "2392ba03",
   "metadata": {},
   "outputs": [],
   "source": [
    "#function\n",
    "\n",
    "#add to new doc\n",
    "def add_to_new_file(words, notes):\n",
    "    try:\n",
    "        if notes[0] is not None:\n",
    "            newdoc.add_paragraph().add_run(words).font.highlight_color = WD_COLOR_INDEX.YELLOW\n",
    "    except IndexError:\n",
    "            newdoc.add_paragraph(words)\n",
    "\n",
    "#spellcheck, split and join, here should mark down what word has changed\n",
    "def check_spelling(temp_split):\n",
    "    temp_list = []\n",
    "    notes = []\n",
    "    for i in range(len(temp_split)):\n",
    "        word = Word(temp_split[i])\n",
    "        result = word.spellcheck()\n",
    "        \n",
    "        #select the word with highest probility.\n",
    "        if word != result[0][0]:\n",
    "            word = result[0][0]\n",
    "            temp_list.append(word)\n",
    "            notes.append(word)\n",
    "        else:\n",
    "            temp_list.append(word)\n",
    "    return temp_list, notes\n"
   ]
  },
  {
   "cell_type": "code",
   "execution_count": 3,
   "id": "f2d21cbf",
   "metadata": {},
   "outputs": [],
   "source": [
    "#Source doc\n",
    "doc = docx.Document('GLI_19890303_A(elDoc).docx')\n",
    "\n",
    "#create new document\n",
    "newdoc = docx.Document()\n",
    "\n",
    "#loop the doc and find the paragraphs then split them into word by word\n",
    "for i in range(len(doc.paragraphs)):\n",
    "    temp_p = doc.paragraphs[i].text\n",
    "    temp_split = temp_p.split()\n",
    "    \n",
    "    #pass the splited paragraph to process\n",
    "    new_list, notes = check_spelling(temp_split)\n",
    "\n",
    "    #convert the list back into string with space \" \", then call the fucntion\n",
    "    add_to_new_file(' '.join(new_list), notes)"
   ]
  },
  {
   "cell_type": "code",
   "execution_count": 4,
   "id": "c1065820",
   "metadata": {},
   "outputs": [],
   "source": [
    "#save new document\n",
    "newdoc.save('GLI_19890303_A(elDoc)_ED.docx')\n"
   ]
  }
 ],
 "metadata": {
  "kernelspec": {
   "display_name": "Python 3 (ipykernel)",
   "language": "python",
   "name": "python3"
  },
  "language_info": {
   "codemirror_mode": {
    "name": "ipython",
    "version": 3
   },
   "file_extension": ".py",
   "mimetype": "text/x-python",
   "name": "python",
   "nbconvert_exporter": "python",
   "pygments_lexer": "ipython3",
   "version": "3.9.12"
  }
 },
 "nbformat": 4,
 "nbformat_minor": 5
}
